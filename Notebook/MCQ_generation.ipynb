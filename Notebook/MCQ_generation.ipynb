{
  "nbformat": 4,
  "nbformat_minor": 0,
  "metadata": {
    "colab": {
      "provenance": []
    },
    "kernelspec": {
      "name": "python3",
      "display_name": "Python 3"
    },
    "language_info": {
      "name": "python"
    }
  },
  "cells": [
    {
      "cell_type": "code",
      "execution_count": 3,
      "metadata": {
        "id": "IImzUhyJidEZ"
      },
      "outputs": [],
      "source": [
        "import spacy\n",
        "import random\n",
        "from collections import Counter"
      ]
    },
    {
      "cell_type": "code",
      "source": [
        "text =\"\"\"In the heart of the bustling city, hidden away from the main thoroughfares, lies a quaint little bookstore that has stood the test of time. The store, with its creaky wooden floors and towering bookshelves, is a treasure trove of literary wonders. Sunlight filters through the large, dusty windows, casting a warm glow on the myriad of books that line the shelves. From rare first editions to contemporary bestsellers, the store offers a diverse collection that caters to every reader's taste. The scent of old paper and ink fills the air, mingling with the faint aroma of freshly brewed coffee from the small café nestled in the corner. The owner, an elderly gentleman with a passion for stories, is always eager to recommend a good read or share anecdotes about the store's rich history. Regular patrons often gather around the cozy reading nooks, engaging in lively discussions about their favorite authors and literary theories. Despite the rise of digital media, the bookstore remains a beloved sanctuary for book lovers, a place where one can lose themselves in the pages of a captivating novel or discover a hidden gem among the stacks. The charm of the bookstore lies not just in its vast collection but in the sense of community and the love of literature that permeates every corner. The walls are adorned with vintage posters and photographs, each telling a story of a bygone era, adding to the nostalgic atmosphere. On weekends, the bookstore hosts various events, from book signings by local authors to poetry readings that attract literature enthusiasts from all over the city. Children gather for storytelling sessions, their eyes wide with wonder as they are transported to magical worlds. The bookstore’s resident cat, a lazy tabby named Whiskers, can often be found lounging on the window sill, basking in the afternoon sun. The sound of pages turning, the hushed whispers of conversation, and the occasional burst of laughter create a soothing symphony that makes the bookstore a haven for those seeking a respite from the chaotic pace of modern life. It is a place where time seems to stand still, and the simple pleasure of reading a good book is cherished above all else.\"\"\"\n",
        "num_question = 5"
      ],
      "metadata": {
        "id": "HJaKDYveswt1"
      },
      "execution_count": 45,
      "outputs": []
    },
    {
      "cell_type": "code",
      "source": [
        "nlp = spacy.load(\"en_core_web_sm\")"
      ],
      "metadata": {
        "id": "tYPUzf7-tKEM"
      },
      "execution_count": 16,
      "outputs": []
    },
    {
      "cell_type": "code",
      "source": [
        "nlp(text)"
      ],
      "metadata": {
        "colab": {
          "base_uri": "https://localhost:8080/"
        },
        "id": "dLQQeD7Ltcvc",
        "outputId": "b556c176-7198-4dbb-ff64-613e3eafaf84"
      },
      "execution_count": 46,
      "outputs": [
        {
          "output_type": "execute_result",
          "data": {
            "text/plain": [
              "In the heart of the bustling city, hidden away from the main thoroughfares, lies a quaint little bookstore that has stood the test of time. The store, with its creaky wooden floors and towering bookshelves, is a treasure trove of literary wonders. Sunlight filters through the large, dusty windows, casting a warm glow on the myriad of books that line the shelves. From rare first editions to contemporary bestsellers, the store offers a diverse collection that caters to every reader's taste. The scent of old paper and ink fills the air, mingling with the faint aroma of freshly brewed coffee from the small café nestled in the corner. The owner, an elderly gentleman with a passion for stories, is always eager to recommend a good read or share anecdotes about the store's rich history. Regular patrons often gather around the cozy reading nooks, engaging in lively discussions about their favorite authors and literary theories. Despite the rise of digital media, the bookstore remains a beloved sanctuary for book lovers, a place where one can lose themselves in the pages of a captivating novel or discover a hidden gem among the stacks. The charm of the bookstore lies not just in its vast collection but in the sense of community and the love of literature that permeates every corner. The walls are adorned with vintage posters and photographs, each telling a story of a bygone era, adding to the nostalgic atmosphere. On weekends, the bookstore hosts various events, from book signings by local authors to poetry readings that attract literature enthusiasts from all over the city. Children gather for storytelling sessions, their eyes wide with wonder as they are transported to magical worlds. The bookstore’s resident cat, a lazy tabby named Whiskers, can often be found lounging on the window sill, basking in the afternoon sun. The sound of pages turning, the hushed whispers of conversation, and the occasional burst of laughter create a soothing symphony that makes the bookstore a haven for those seeking a respite from the chaotic pace of modern life. It is a place where time seems to stand still, and the simple pleasure of reading a good book is cherished above all else."
            ]
          },
          "metadata": {},
          "execution_count": 46
        }
      ]
    },
    {
      "cell_type": "code",
      "source": [
        "doc = nlp(text)\n",
        "\n",
        "[sent for sent in doc.sents]"
      ],
      "metadata": {
        "colab": {
          "base_uri": "https://localhost:8080/"
        },
        "id": "Zs0HAy21t17T",
        "outputId": "7c42de76-c7da-48d4-9ae6-380ad7df343b"
      },
      "execution_count": 47,
      "outputs": [
        {
          "output_type": "execute_result",
          "data": {
            "text/plain": [
              "[In the heart of the bustling city, hidden away from the main thoroughfares, lies a quaint little bookstore that has stood the test of time.,\n",
              " The store, with its creaky wooden floors and towering bookshelves, is a treasure trove of literary wonders.,\n",
              " Sunlight filters through the large, dusty windows, casting a warm glow on the myriad of books that line the shelves.,\n",
              " From rare first editions to contemporary bestsellers, the store offers a diverse collection that caters to every reader's taste.,\n",
              " The scent of old paper and ink fills the air, mingling with the faint aroma of freshly brewed coffee from the small café nestled in the corner.,\n",
              " The owner, an elderly gentleman with a passion for stories, is always eager to recommend a good read or share anecdotes about the store's rich history.,\n",
              " Regular patrons often gather around the cozy reading nooks, engaging in lively discussions about their favorite authors and literary theories.,\n",
              " Despite the rise of digital media, the bookstore remains a beloved sanctuary for book lovers, a place where one can lose themselves in the pages of a captivating novel or discover a hidden gem among the stacks.,\n",
              " The charm of the bookstore lies not just in its vast collection but in the sense of community and the love of literature that permeates every corner.,\n",
              " The walls are adorned with vintage posters and photographs, each telling a story of a bygone era, adding to the nostalgic atmosphere.,\n",
              " On weekends, the bookstore hosts various events, from book signings by local authors to poetry readings that attract literature enthusiasts from all over the city.,\n",
              " Children gather for storytelling sessions, their eyes wide with wonder as they are transported to magical worlds.,\n",
              " The bookstore’s resident cat, a lazy tabby named Whiskers, can often be found lounging on the window sill, basking in the afternoon sun.,\n",
              " The sound of pages turning, the hushed whispers of conversation, and the occasional burst of laughter create a soothing symphony that makes the bookstore a haven for those seeking a respite from the chaotic pace of modern life.,\n",
              " It is a place where time seems to stand still, and the simple pleasure of reading a good book is cherished above all else.]"
            ]
          },
          "metadata": {},
          "execution_count": 47
        }
      ]
    },
    {
      "cell_type": "code",
      "source": [
        "len([sent for sent in doc.sents])"
      ],
      "metadata": {
        "colab": {
          "base_uri": "https://localhost:8080/"
        },
        "id": "exYE1_BWuLZi",
        "outputId": "8b072f36-e77b-4e95-de55-7b965701425a"
      },
      "execution_count": 48,
      "outputs": [
        {
          "output_type": "execute_result",
          "data": {
            "text/plain": [
              "15"
            ]
          },
          "metadata": {},
          "execution_count": 48
        }
      ]
    },
    {
      "cell_type": "code",
      "source": [
        "sentences = [sent.text for sent in doc.sents]"
      ],
      "metadata": {
        "id": "1L_pkZCEuTok"
      },
      "execution_count": 49,
      "outputs": []
    },
    {
      "cell_type": "code",
      "source": [
        "sentences"
      ],
      "metadata": {
        "colab": {
          "base_uri": "https://localhost:8080/"
        },
        "id": "boOmqsTqugXa",
        "outputId": "731c0b28-cc6f-4ad8-80cb-775f19470af7"
      },
      "execution_count": 50,
      "outputs": [
        {
          "output_type": "execute_result",
          "data": {
            "text/plain": [
              "['In the heart of the bustling city, hidden away from the main thoroughfares, lies a quaint little bookstore that has stood the test of time.',\n",
              " 'The store, with its creaky wooden floors and towering bookshelves, is a treasure trove of literary wonders.',\n",
              " 'Sunlight filters through the large, dusty windows, casting a warm glow on the myriad of books that line the shelves.',\n",
              " \"From rare first editions to contemporary bestsellers, the store offers a diverse collection that caters to every reader's taste.\",\n",
              " 'The scent of old paper and ink fills the air, mingling with the faint aroma of freshly brewed coffee from the small café nestled in the corner.',\n",
              " \"The owner, an elderly gentleman with a passion for stories, is always eager to recommend a good read or share anecdotes about the store's rich history.\",\n",
              " 'Regular patrons often gather around the cozy reading nooks, engaging in lively discussions about their favorite authors and literary theories.',\n",
              " 'Despite the rise of digital media, the bookstore remains a beloved sanctuary for book lovers, a place where one can lose themselves in the pages of a captivating novel or discover a hidden gem among the stacks.',\n",
              " 'The charm of the bookstore lies not just in its vast collection but in the sense of community and the love of literature that permeates every corner.',\n",
              " 'The walls are adorned with vintage posters and photographs, each telling a story of a bygone era, adding to the nostalgic atmosphere.',\n",
              " 'On weekends, the bookstore hosts various events, from book signings by local authors to poetry readings that attract literature enthusiasts from all over the city.',\n",
              " 'Children gather for storytelling sessions, their eyes wide with wonder as they are transported to magical worlds.',\n",
              " 'The bookstore’s resident cat, a lazy tabby named Whiskers, can often be found lounging on the window sill, basking in the afternoon sun.',\n",
              " 'The sound of pages turning, the hushed whispers of conversation, and the occasional burst of laughter create a soothing symphony that makes the bookstore a haven for those seeking a respite from the chaotic pace of modern life.',\n",
              " 'It is a place where time seems to stand still, and the simple pleasure of reading a good book is cherished above all else.']"
            ]
          },
          "metadata": {},
          "execution_count": 50
        }
      ]
    },
    {
      "cell_type": "code",
      "source": [
        "random_sample = random.sample(sentences,min(num_question,len(sentences)))\n",
        "random_sample"
      ],
      "metadata": {
        "colab": {
          "base_uri": "https://localhost:8080/"
        },
        "id": "wZ5WBU7yunOL",
        "outputId": "a31532fb-0a2d-4fcb-ad9b-35575979378f"
      },
      "execution_count": 51,
      "outputs": [
        {
          "output_type": "execute_result",
          "data": {
            "text/plain": [
              "['Children gather for storytelling sessions, their eyes wide with wonder as they are transported to magical worlds.',\n",
              " 'The scent of old paper and ink fills the air, mingling with the faint aroma of freshly brewed coffee from the small café nestled in the corner.',\n",
              " 'The charm of the bookstore lies not just in its vast collection but in the sense of community and the love of literature that permeates every corner.',\n",
              " 'The sound of pages turning, the hushed whispers of conversation, and the occasional burst of laughter create a soothing symphony that makes the bookstore a haven for those seeking a respite from the chaotic pace of modern life.',\n",
              " 'The store, with its creaky wooden floors and towering bookshelves, is a treasure trove of literary wonders.']"
            ]
          },
          "metadata": {},
          "execution_count": 51
        }
      ]
    },
    {
      "cell_type": "code",
      "source": [
        "mcqs = []\n",
        "for sentence in random_sample:\n",
        "    sentence = sentence.lower()\n",
        "    sent_doc = nlp(sentence)\n",
        "    print(f\"sentences :{sentence}\")\n",
        "    nouns = [token.text for token in sent_doc if token.pos_ == \"NOUN\"]\n",
        "    print(f\"nouns:{nouns}\")\n",
        "    if(len(nouns)<2):\n",
        "        continue"
      ],
      "metadata": {
        "colab": {
          "base_uri": "https://localhost:8080/"
        },
        "id": "NMifx9P4y8KA",
        "outputId": "13a652e4-171b-4e60-f13c-35286367d084"
      },
      "execution_count": 52,
      "outputs": [
        {
          "output_type": "stream",
          "name": "stdout",
          "text": [
            "sentences :children gather for storytelling sessions, their eyes wide with wonder as they are transported to magical worlds.\n",
            "nouns:['children', 'sessions', 'eyes', 'wonder', 'worlds']\n",
            "sentences :the scent of old paper and ink fills the air, mingling with the faint aroma of freshly brewed coffee from the small café nestled in the corner.\n",
            "nouns:['scent', 'paper', 'ink', 'air', 'aroma', 'coffee', 'café', 'corner']\n",
            "sentences :the charm of the bookstore lies not just in its vast collection but in the sense of community and the love of literature that permeates every corner.\n",
            "nouns:['charm', 'bookstore', 'collection', 'sense', 'community', 'love', 'literature', 'corner']\n",
            "sentences :the sound of pages turning, the hushed whispers of conversation, and the occasional burst of laughter create a soothing symphony that makes the bookstore a haven for those seeking a respite from the chaotic pace of modern life.\n",
            "nouns:['sound', 'pages', 'whispers', 'conversation', 'burst', 'laughter', 'symphony', 'bookstore', 'haven', 'respite', 'pace', 'life']\n",
            "sentences :the store, with its creaky wooden floors and towering bookshelves, is a treasure trove of literary wonders.\n",
            "nouns:['store', 'floors', 'bookshelves', 'treasure', 'trove', 'wonders']\n"
          ]
        }
      ]
    },
    {
      "cell_type": "code",
      "source": [
        "Counter(nouns)"
      ],
      "metadata": {
        "colab": {
          "base_uri": "https://localhost:8080/"
        },
        "id": "H2ASNl1m3iav",
        "outputId": "c2a3db40-1410-484a-ea6d-8c8fb84c7b13"
      },
      "execution_count": 53,
      "outputs": [
        {
          "output_type": "execute_result",
          "data": {
            "text/plain": [
              "Counter({'store': 1,\n",
              "         'floors': 1,\n",
              "         'bookshelves': 1,\n",
              "         'treasure': 1,\n",
              "         'trove': 1,\n",
              "         'wonders': 1})"
            ]
          },
          "metadata": {},
          "execution_count": 53
        }
      ]
    },
    {
      "cell_type": "code",
      "source": [
        "if Counter(nouns):\n",
        "    subject = Counter(nouns).most_common(1)[0][0]\n",
        "    print(f\"subject:{subject}\")"
      ],
      "metadata": {
        "colab": {
          "base_uri": "https://localhost:8080/"
        },
        "id": "igfCrcfn5r_e",
        "outputId": "d408319c-3043-4fc3-9b90-15af49641c6b"
      },
      "execution_count": 54,
      "outputs": [
        {
          "output_type": "stream",
          "name": "stdout",
          "text": [
            "subject:store\n"
          ]
        }
      ]
    },
    {
      "cell_type": "code",
      "source": [
        ""
      ],
      "metadata": {
        "id": "BBflysmy6Ziu"
      },
      "execution_count": 54,
      "outputs": []
    },
    {
      "cell_type": "code",
      "source": [
        "def generate_mcqs(text, num_questions=5):\n",
        "    doc = nlp(text)\n",
        "    sentences = [sent.text for sent in doc.sents]\n",
        "    selected_sentences = random.sample(sentences, min(num_questions, len(sentences)))\n",
        "    mcqs = []\n",
        "    for sentence in selected_sentences:\n",
        "        sent_doc = nlp(sentence)\n",
        "        nouns = [token.text for token in sent_doc if token.pos_ == \"NOUN\"]\n",
        "\n",
        "        if len(nouns) < 2:\n",
        "            continue\n",
        "\n",
        "        noun_counts = Counter(nouns)\n",
        "        # main subject ko space se replace kar do\n",
        "        if noun_counts:\n",
        "            subject = noun_counts.most_common(1)[0][0]\n",
        "            question_stem = sentence.replace(subject, \"_______\")\n",
        "            answer_choices = [subject]\n",
        "            #  wrong answer ke liye\n",
        "            for _ in range(3):\n",
        "                distractor = random.choice(list(set(nouns) - set([subject])))\n",
        "                answer_choices.append(distractor)\n",
        "\n",
        "            random.shuffle(answer_choices)\n",
        "            correct_answer = chr(64 + answer_choices.index(subject) + 1) # convewt word index to letter\n",
        "            mcqs.append((question_stem, answer_choices, correct_answer))\n",
        "\n",
        "    return mcqs"
      ],
      "metadata": {
        "id": "sA4yGzcdvau5"
      },
      "execution_count": 55,
      "outputs": []
    },
    {
      "cell_type": "code",
      "source": [
        "results = generate_mcqs(text,5)\n",
        "results"
      ],
      "metadata": {
        "colab": {
          "base_uri": "https://localhost:8080/"
        },
        "id": "qKqmtxBN6imf",
        "outputId": "3659b6e4-fd96-4227-f9b9-65f4f5d6a545"
      },
      "execution_count": 57,
      "outputs": [
        {
          "output_type": "execute_result",
          "data": {
            "text/plain": [
              "[('Regular _______ often gather around the cozy reading nooks, engaging in lively discussions about their favorite authors and literary theories.',\n",
              "  ['theories', 'patrons', 'nooks', 'nooks'],\n",
              "  'B'),\n",
              " ('It is a _______ where time seems to stand still, and the simple pleasure of reading a good book is cherished above all else.',\n",
              "  ['place', 'pleasure', 'pleasure', 'time'],\n",
              "  'A'),\n",
              " ('The _______ of the bookstore lies not just in its vast collection but in the sense of community and the love of literature that permeates every corner.',\n",
              "  ['charm', 'corner', 'sense', 'collection'],\n",
              "  'A'),\n",
              " ('_______ filters through the large, dusty windows, casting a warm glow on the myriad of books that line the shelves.',\n",
              "  ['windows', 'glow', 'Sunlight', 'glow'],\n",
              "  'C'),\n",
              " ('The _______ are adorned with vintage posters and photographs, each telling a story of a bygone era, adding to the nostalgic atmosphere.',\n",
              "  ['posters', 'story', 'walls', 'atmosphere'],\n",
              "  'C')]"
            ]
          },
          "metadata": {},
          "execution_count": 57
        }
      ]
    },
    {
      "cell_type": "code",
      "source": [
        "for i, mcq in enumerate(results,start=1):\n",
        "    question_stem, answer_choices, correct_answer = mcq\n",
        "    print(f\"Q{i}: {question_stem}\")"
      ],
      "metadata": {
        "colab": {
          "base_uri": "https://localhost:8080/"
        },
        "id": "RHiWk_uZIsOX",
        "outputId": "2282f1a0-413d-4680-a8da-fc998fd01e6c"
      },
      "execution_count": 59,
      "outputs": [
        {
          "output_type": "stream",
          "name": "stdout",
          "text": [
            "Q1: Regular _______ often gather around the cozy reading nooks, engaging in lively discussions about their favorite authors and literary theories.\n",
            "Q2: It is a _______ where time seems to stand still, and the simple pleasure of reading a good book is cherished above all else.\n",
            "Q3: The _______ of the bookstore lies not just in its vast collection but in the sense of community and the love of literature that permeates every corner.\n",
            "Q4: _______ filters through the large, dusty windows, casting a warm glow on the myriad of books that line the shelves.\n",
            "Q5: The _______ are adorned with vintage posters and photographs, each telling a story of a bygone era, adding to the nostalgic atmosphere.\n"
          ]
        }
      ]
    },
    {
      "cell_type": "code",
      "source": [
        "for i, mcq in enumerate(results,start=1):\n",
        "    question_stem, answer_choices, correct_answer = mcq\n",
        "    print(f\"Q{i}: {question_stem}\")\n",
        "    for j, choice  in enumerate(answer_choices, start=1):\n",
        "        print(f\"{chr(64+j)}: {choice}\")\n",
        "    print(f\"Correct Answer: {correct_answer}\")\n",
        "    print(\"\\n\")"
      ],
      "metadata": {
        "colab": {
          "base_uri": "https://localhost:8080/"
        },
        "id": "7hdloqzx7vm3",
        "outputId": "ae03b204-54d7-4bfd-80bc-edf8a9146cfb"
      },
      "execution_count": 60,
      "outputs": [
        {
          "output_type": "stream",
          "name": "stdout",
          "text": [
            "Q1: Regular _______ often gather around the cozy reading nooks, engaging in lively discussions about their favorite authors and literary theories.\n",
            "A: theories\n",
            "B: patrons\n",
            "C: nooks\n",
            "D: nooks\n",
            "Correct Answer: B\n",
            "\n",
            "\n",
            "Q2: It is a _______ where time seems to stand still, and the simple pleasure of reading a good book is cherished above all else.\n",
            "A: place\n",
            "B: pleasure\n",
            "C: pleasure\n",
            "D: time\n",
            "Correct Answer: A\n",
            "\n",
            "\n",
            "Q3: The _______ of the bookstore lies not just in its vast collection but in the sense of community and the love of literature that permeates every corner.\n",
            "A: charm\n",
            "B: corner\n",
            "C: sense\n",
            "D: collection\n",
            "Correct Answer: A\n",
            "\n",
            "\n",
            "Q4: _______ filters through the large, dusty windows, casting a warm glow on the myriad of books that line the shelves.\n",
            "A: windows\n",
            "B: glow\n",
            "C: Sunlight\n",
            "D: glow\n",
            "Correct Answer: C\n",
            "\n",
            "\n",
            "Q5: The _______ are adorned with vintage posters and photographs, each telling a story of a bygone era, adding to the nostalgic atmosphere.\n",
            "A: posters\n",
            "B: story\n",
            "C: walls\n",
            "D: atmosphere\n",
            "Correct Answer: C\n",
            "\n",
            "\n"
          ]
        }
      ]
    },
    {
      "cell_type": "code",
      "source": [],
      "metadata": {
        "id": "muVFTN-f-LGt"
      },
      "execution_count": null,
      "outputs": []
    }
  ]
}